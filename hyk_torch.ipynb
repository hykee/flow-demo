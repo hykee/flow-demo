{
  "nbformat": 4,
  "nbformat_minor": 0,
  "metadata": {
    "colab": {
      "provenance": [],
      "authorship_tag": "ABX9TyOyI/4KbEn7R2UozqYKPvit",
      "include_colab_link": true
    },
    "kernelspec": {
      "name": "python3",
      "display_name": "Python 3"
    },
    "language_info": {
      "name": "python"
    }
  },
  "cells": [
    {
      "cell_type": "markdown",
      "metadata": {
        "id": "view-in-github",
        "colab_type": "text"
      },
      "source": [
        "<a href=\"https://colab.research.google.com/github/hykee/flow-demo/blob/master/hyk_torch.ipynb\" target=\"_parent\"><img src=\"https://colab.research.google.com/assets/colab-badge.svg\" alt=\"Open In Colab\"/></a>"
      ]
    },
    {
      "cell_type": "markdown",
      "source": [
        "cv2 라이브러리 불러오기"
      ],
      "metadata": {
        "id": "rbZReZSV-5JJ"
      }
    },
    {
      "cell_type": "code",
      "source": [
        "import os\n",
        "from google.colab import drive\n",
        "drive.mount('/content/drive')\n",
        "file1= os.listdir('/content/drive/MyDrive')\n",
        "print(file1)"
      ],
      "metadata": {
        "colab": {
          "base_uri": "https://localhost:8080/"
        },
        "id": "gG2qkMO3B-zS",
        "outputId": "e126e45e-8271-40b8-d287-dd427c980327"
      },
      "execution_count": 22,
      "outputs": [
        {
          "output_type": "stream",
          "name": "stdout",
          "text": [
            "Drive already mounted at /content/drive; to attempt to forcibly remount, call drive.mount(\"/content/drive\", force_remount=True).\n",
            "['경비', 'EMC', '미국.gmap', '업무', '수행시간 기록2.xlsx', '한국기업데이터 VxFlex 소개및POC 결과_20190808_1.pptx', '20200102_140739.jpg', 'Colab Notebooks', '1.jpg']\n"
          ]
        }
      ]
    },
    {
      "cell_type": "code",
      "source": [
        "# 이미지 마운트 및 저장\n",
        "import cv2, torch\n",
        "img1 = cv2.imread('/content/drive/MyDrive/Colab Notebooks/1.jpg', cv2.COLOR_BGR2RGB)\n",
        "img2 = cv2.imread('/content/drive/MyDrive/Colab Notebooks/2.jpg', cv2.COLOR_BGR2RGB)\n",
        "img3 = cv2.imread('/content/drive/MyDrive/Colab Notebooks/3.jpg', cv2.COLOR_BGR2RGB)\n",
        "#print(img1.shape,img1)-- TEST\n",
        "print(img1.shape, img2.shape, img3.shape)\n",
        "\n",
        "\n",
        "# 이미지 배열들을 입력받아 각각 pytorch tensor로 변환\n",
        "\n",
        "img_tensor1 = torch.from_numpy(img1)\n",
        "img_tensor2 = torch.from_numpy(img2)\n",
        "img_tensor3 = torch.from_numpy(img3)\n",
        "print(img_tensor1.shape)\n",
        "\n",
        "#3개의 텐서를 dim=0을 기준으로 연결하여 (3, 3, 480, 640) 크기의 텐서 하나를 구성\n",
        "\n",
        "#(3, 3, 480, 640) 크기의 텐서를 (3, 921600) 크기로 변환 (25점)\n",
        "\n",
        "\n",
        "#변환된 (3, 921600) 크기 텐서의 평균을 계산 (25점)\n"
      ],
      "metadata": {
        "colab": {
          "base_uri": "https://localhost:8080/"
        },
        "id": "EDKHt1fh-pd3",
        "outputId": "5ddcc168-3814-446a-de11-89ddac934785"
      },
      "execution_count": 36,
      "outputs": [
        {
          "output_type": "stream",
          "name": "stdout",
          "text": [
            "(480, 640, 3) (480, 640, 3) (480, 640, 3)\n",
            "torch.Size([480, 640, 3])\n"
          ]
        }
      ]
    },
    {
      "cell_type": "code",
      "source": [
        "image_paths = ['/content/drive/MyDrive/Colab Notebooks/1.jpg',\n",
        "               '/content/drive/MyDrive/Colab Notebooks/2.jpg',\n",
        "               '/content/drive/MyDrive/Colab Notebooks/3.jpg']\n",
        "\n",
        "# 이미지를 저장할 리스트\n",
        "image_tensors = []\n",
        "print(image_tensors)\n",
        "\n",
        "# 이미지 경로들을 순회하면서 PyTorch Tensor로 변환하여 리스트에 추가\n",
        "for path in image_paths:\n",
        "    # 이미지를 BGR 형식으로 읽어오기\n",
        "    img_rgb = cv2.imread(path,cv2.COLOR_BGR2RGB )\n",
        "\n",
        "    # BGR을 RGB로 변환\n",
        "    #img_rgb = cv2.cvtColor(img_bgr, cv2.COLOR_BGR2RGB)\n",
        "\n",
        "    # NumPy 배열을 PyTorch Tensor로 변환 후 리스트에 추가\n",
        "    img_tensor = torch.from_numpy(img_rgb)\n",
        "    image_tensors.append(img_tensor)\n",
        "\n",
        "# 리스트를 PyTorch Tensor로 변환\n",
        "tensor_images = torch.stack(image_tensors)\n",
        "\n",
        "# 결과 확인\n",
        "print(\"path:\", path)\n",
        "print(\"Shape of the Tensor:\", tensor_images.shape)"
      ],
      "metadata": {
        "colab": {
          "base_uri": "https://localhost:8080/"
        },
        "id": "XM_8TIONbrVG",
        "outputId": "8c8c7e9a-cd3e-4c8d-cde4-4869e6b356eb"
      },
      "execution_count": 44,
      "outputs": [
        {
          "output_type": "stream",
          "name": "stdout",
          "text": [
            "[]\n",
            "path: /content/drive/MyDrive/Colab Notebooks/3.jpg\n",
            "Shape of the Tensor: torch.Size([3, 480, 640, 3])\n"
          ]
        }
      ]
    },
    {
      "cell_type": "code",
      "source": [
        "import cv2\n",
        "import torch\n",
        "# import numpy as np\n",
        "\n",
        "# Google my drive 마운트된 이미지 파일 및 경로지정\n",
        "image_paths = ['/content/drive/MyDrive/Colab Notebooks/1.jpg',\n",
        "               '/content/drive/MyDrive/Colab Notebooks/2.jpg',\n",
        "               '/content/drive/MyDrive/Colab Notebooks/3.jpg']\n",
        "\n",
        "# 이미지를 저장할 리스트\n",
        "image_tensors = []\n",
        "\n",
        "# 이미지 경로들을 순회하면서 PyTorch Tensor로 변환하여 리스트에 추가\n",
        "for path in image_paths:\n",
        "    # 이미지를 BGR 형식으로 읽어오기\n",
        "    img_bgr = cv2.imread(path)\n",
        "\n",
        "    # BGR을 RGB로 변환\n",
        "    img_rgb = cv2.cvtColor(img_bgr, cv2.COLOR_BGR2RGB)\n",
        "\n",
        "    # NumPy 배열을 PyTorch Tensor로 변환 후 리스트에 추가\n",
        "    img_tensor = torch.from_numpy(img_rgb)\n",
        "    image_tensors.append(img_tensor)\n",
        "\n",
        "#1) Tensor 변환 결과 확인\n",
        "for i, tensor in enumerate(image_tensors, 1):\n",
        "    print(f\"1) Tensor 변환 결과 확인: Shape of img_tensor{i}: {tensor.shape}\")\n",
        "\n",
        "# 2) 3개의 텐서를 dim=0을 기준으로 연결하여 (3, 3, 480, 640) 크기의 텐서 하나를 구성\n",
        "result_tensor = torch.stack(image_tensors, dim=0)\n",
        "\n",
        "# 2) 결과 확인\n",
        "print(\"2) dim=0,텐서구성 결과 확인 : Shape of the Result Tensor:\", result_tensor.shape)\n",
        "\n",
        "#3) (3, 3, 480, 640) 크기의 텐서를 (3, 921600) 크기로 변환\n",
        "flattened_tensor = result_tensor.view(3, -1)\n",
        "\n",
        "# 3) 결과 확인\n",
        "print(\"3) 921600 크기 변환 결과 확인: Shape of the Flattened Tensor:\", flattened_tensor.shape)\n",
        "\n",
        "#4) 변환된 (3, 921600) 크기 텐서의 평균을 계산\n",
        "#print(\"test\",flattened_tensor)\n",
        "flattened_tensor_float = flattened_tensor.float()\n",
        "mean_value = torch.mean(flattened_tensor_float)\n",
        "\n",
        "# 결과 확인\n",
        "print(\"4) 평균 계산 결과 확인:Mean Value:\", mean_value.item())"
      ],
      "metadata": {
        "colab": {
          "base_uri": "https://localhost:8080/"
        },
        "id": "uuF3f1aTlN3m",
        "outputId": "f400b374-8e6f-4cf0-8cd2-92e4facc947f"
      },
      "execution_count": 58,
      "outputs": [
        {
          "output_type": "stream",
          "name": "stdout",
          "text": [
            "1) Tensor 변환 결과 확인: Shape of img_tensor1: torch.Size([480, 640, 3])\n",
            "1) Tensor 변환 결과 확인: Shape of img_tensor2: torch.Size([480, 640, 3])\n",
            "1) Tensor 변환 결과 확인: Shape of img_tensor3: torch.Size([480, 640, 3])\n",
            "2) dim=0,텐서구성 결과 확인 : Shape of the Result Tensor: torch.Size([3, 480, 640, 3])\n",
            "3) 921600 크기 변환 결과 확인: Shape of the Flattened Tensor: torch.Size([3, 921600])\n",
            "4) 평균 계산 결과 확인:Mean Value: 122.18266296386719\n"
          ]
        }
      ]
    }
  ]
}